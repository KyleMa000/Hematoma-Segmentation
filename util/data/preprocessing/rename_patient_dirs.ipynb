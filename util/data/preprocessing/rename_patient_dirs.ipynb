{
 "cells": [
  {
   "cell_type": "code",
   "execution_count": 4,
   "metadata": {},
   "outputs": [],
   "source": [
    "import os\n",
    "import sys\n",
    "import pydicom\n",
    "import pathlib"
   ]
  },
  {
   "cell_type": "code",
   "execution_count": 25,
   "metadata": {},
   "outputs": [],
   "source": [
    "dir_name_to_patient_id = {}\n",
    "\n",
    "raw_images_dir = pathlib.Path('/Volumes/med-kayvan-lab/Projects/Polytrauma/Data/Raw/subarachnoid_hematoma/raw_images/')\n",
    "\n",
    "for patient_dir in raw_images_dir.iterdir():\n",
    "    for series_dir in patient_dir.iterdir():\n",
    "        if series_dir.is_dir():\n",
    "            for file in series_dir.iterdir():\n",
    "                if file.suffix == '.dcm':\n",
    "                    file_path = str(file)\n",
    "                    meta_data = pydicom.filereader.dcmread(file_path)\n",
    "                    patient_id = meta_data.PatientID\n",
    "                    dir_name_to_patient_id[patient_dir.name] = patient_id\n",
    "                    patient_dir.rename(raw_images_dir / patient_id)\n",
    "                    break\n",
    "            break"
   ]
  },
  {
   "cell_type": "code",
   "execution_count": 23,
   "metadata": {},
   "outputs": [
    {
     "data": {
      "text/plain": [
       "set()"
      ]
     },
     "execution_count": 23,
     "metadata": {},
     "output_type": "execute_result"
    }
   ],
   "source": [
    "patient_dirs = [x.name for x in list(raw_images_dir.iterdir())]\n",
    "set(patient_dirs) - set(dir_name_to_patient_id.keys())"
   ]
  }
 ],
 "metadata": {
  "kernelspec": {
   "display_name": "Python 3",
   "language": "python",
   "name": "python3"
  },
  "language_info": {
   "codemirror_mode": {
    "name": "ipython",
    "version": 3
   },
   "file_extension": ".py",
   "mimetype": "text/x-python",
   "name": "python",
   "nbconvert_exporter": "python",
   "pygments_lexer": "ipython3",
   "version": "3.11.1"
  },
  "orig_nbformat": 4
 },
 "nbformat": 4,
 "nbformat_minor": 2
}
